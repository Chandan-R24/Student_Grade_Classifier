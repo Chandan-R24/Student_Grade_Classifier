{
 "cells": [
  {
   "cell_type": "code",
   "execution_count": 1,
   "id": "6688bef6-9289-4f86-a490-7b04a40fc692",
   "metadata": {},
   "outputs": [],
   "source": [
    "import csv\n",
    "import matplotlib.pyplot as plt\n"
   ]
  },
  {
   "cell_type": "code",
   "execution_count": 2,
   "id": "24f8ca01-9a06-43ce-b87b-7a67338c9f51",
   "metadata": {},
   "outputs": [],
   "source": [
    "# Global student list\n",
    "students = []\n",
    "\n",
    "# Load from CSV\n",
    "def load_from_csv(filename=\"grades.csv\"):\n",
    "    global students\n",
    "    students.clear()\n",
    "    try:\n",
    "        with open(filename, mode='r') as file:\n",
    "            reader = csv.reader(file)\n",
    "            for row in reader:\n",
    "                name, grade = row[0], float(row[1])\n",
    "                students.append((name, grade))\n",
    "        print(\" Data loaded successfully.\")\n",
    "    except FileNotFoundError:\n",
    "        print(\" File not found. Starting with empty dataset.\")\n"
   ]
  },
  {
   "cell_type": "code",
   "execution_count": 3,
   "id": "666ac701-dd48-4ac7-a2c7-7281633889d5",
   "metadata": {},
   "outputs": [],
   "source": [
    "# Save to CSV\n",
    "def save_to_csv(filename=\"grades.csv\"):\n",
    "    with open(filename, mode='w', newline='') as file:\n",
    "        writer = csv.writer(file)\n",
    "        writer.writerows(students)\n",
    "    print(\" Data saved to CSV.\")"
   ]
  },
  {
   "cell_type": "code",
   "execution_count": 4,
   "id": "106f7050-ff6d-4f88-8f11-1b33c70a3531",
   "metadata": {},
   "outputs": [],
   "source": [
    "# Add new student\n",
    "def add_student():\n",
    "    name = input(\"Enter student name: \")\n",
    "    grade = float(input(\"Enter student grade: \"))\n",
    "    students.append((name, grade))\n",
    "    print(f\" {name} added with grade {grade}.\")\n",
    "    "
   ]
  },
  {
   "cell_type": "code",
   "execution_count": 5,
   "id": "8440b886-c94d-472b-978c-92ef30c07b56",
   "metadata": {},
   "outputs": [],
   "source": [
    "# Show stats\n",
    "def show_stats():\n",
    "    if not students:\n",
    "        print(\" No data available.\")\n",
    "        return\n",
    "    grades = [g for _, g in students]\n",
    "    avg = sum(grades) / len(grades)\n",
    "    print(f\"\\n Grade Analysis:\")\n",
    "    print(f\"Average Grade: {round(avg, 2)}\")\n",
    "    print(f\"Highest Grade: {max(grades)}\")\n",
    "    print(f\"Lowest Grade: {min(grades)}\")"
   ]
  },
  {
   "cell_type": "code",
   "execution_count": 6,
   "id": "e29dbfe0-b8b1-41a9-9115-d0e3542f458e",
   "metadata": {},
   "outputs": [],
   "source": [
    "# Show top performers\n",
    "def show_top_performers():\n",
    "    if not students:\n",
    "        print(\" No data available.\")\n",
    "        return\n",
    "    n = int(input(\"How many top performers to display? \"))\n",
    "    sorted_students = sorted(students, key=lambda x: x[1], reverse=True)\n",
    "    print(f\"\\n Top {n} Performers:\")\n",
    "    for i, (name, grade) in enumerate(sorted_students[:n], start=1):\n",
    "        print(f\"{i}. {name} - {grade}\")\n"
   ]
  },
  {
   "cell_type": "code",
   "execution_count": 7,
   "id": "5bab05f2-b118-4eb9-ad28-b8543b10c52d",
   "metadata": {},
   "outputs": [],
   "source": [
    "# Plot bar chart\n",
    "def plot_grades():\n",
    "    if not students:\n",
    "        print(\"No data available.\")\n",
    "        return\n",
    "    names = [name for name, _ in students]\n",
    "    grades = [grade for _, grade in students]\n",
    "    plt.figure(figsize=(10, 5))\n",
    "    plt.bar(names, grades, color='skyblue')\n",
    "    plt.xlabel(\"Students\")\n",
    "    plt.ylabel(\"Grades\")\n",
    "    plt.title(\" Student Grade Distribution\")\n",
    "    plt.xticks(rotation=45)\n",
    "    plt.tight_layout()\n",
    "    plt.show()\n"
   ]
  },
  {
   "cell_type": "code",
   "execution_count": 8,
   "id": "89d7fb69-5c97-49fc-a2b0-88035f128d7f",
   "metadata": {},
   "outputs": [
    {
     "name": "stdout",
     "output_type": "stream",
     "text": [
      " Data loaded successfully.\n",
      "\n",
      "=====  Student Grades Analyzer =====\n",
      "1. Add Student\n",
      "2. Show Grade Stats\n",
      "3. Show Top Performers\n",
      "4. Plot Grade Distribution\n",
      "5. Save to CSV\n",
      "6. Load from CSV\n",
      "0. Exit\n"
     ]
    },
    {
     "name": "stdin",
     "output_type": "stream",
     "text": [
      "Choose an option:  1\n",
      "Enter student name:  Sachi\n",
      "Enter student grade:  92\n"
     ]
    },
    {
     "name": "stdout",
     "output_type": "stream",
     "text": [
      " Sachi added with grade 92.0.\n",
      "\n",
      "=====  Student Grades Analyzer =====\n",
      "1. Add Student\n",
      "2. Show Grade Stats\n",
      "3. Show Top Performers\n",
      "4. Plot Grade Distribution\n",
      "5. Save to CSV\n",
      "6. Load from CSV\n",
      "0. Exit\n"
     ]
    },
    {
     "name": "stdin",
     "output_type": "stream",
     "text": [
      "Choose an option:  1\n",
      "Enter student name:  Virat\n",
      "Enter student grade:  90\n"
     ]
    },
    {
     "name": "stdout",
     "output_type": "stream",
     "text": [
      " Virat added with grade 90.0.\n",
      "\n",
      "=====  Student Grades Analyzer =====\n",
      "1. Add Student\n",
      "2. Show Grade Stats\n",
      "3. Show Top Performers\n",
      "4. Plot Grade Distribution\n",
      "5. Save to CSV\n",
      "6. Load from CSV\n",
      "0. Exit\n"
     ]
    },
    {
     "name": "stdin",
     "output_type": "stream",
     "text": [
      "Choose an option:  1\n",
      "Enter student name:  Mahi\n",
      "Enter student grade:  86\n"
     ]
    },
    {
     "name": "stdout",
     "output_type": "stream",
     "text": [
      " Mahi added with grade 86.0.\n",
      "\n",
      "=====  Student Grades Analyzer =====\n",
      "1. Add Student\n",
      "2. Show Grade Stats\n",
      "3. Show Top Performers\n",
      "4. Plot Grade Distribution\n",
      "5. Save to CSV\n",
      "6. Load from CSV\n",
      "0. Exit\n"
     ]
    },
    {
     "name": "stdin",
     "output_type": "stream",
     "text": [
      "Choose an option:  1\n",
      "Enter student name:  Cena\n",
      "Enter student grade:  65\n"
     ]
    },
    {
     "name": "stdout",
     "output_type": "stream",
     "text": [
      " Cena added with grade 65.0.\n",
      "\n",
      "=====  Student Grades Analyzer =====\n",
      "1. Add Student\n",
      "2. Show Grade Stats\n",
      "3. Show Top Performers\n",
      "4. Plot Grade Distribution\n",
      "5. Save to CSV\n",
      "6. Load from CSV\n",
      "0. Exit\n"
     ]
    },
    {
     "name": "stdin",
     "output_type": "stream",
     "text": [
      "Choose an option:  1\n",
      "Enter student name:  Dadda\n",
      "Enter student grade:  35\n"
     ]
    },
    {
     "name": "stdout",
     "output_type": "stream",
     "text": [
      " Dadda added with grade 35.0.\n",
      "\n",
      "=====  Student Grades Analyzer =====\n",
      "1. Add Student\n",
      "2. Show Grade Stats\n",
      "3. Show Top Performers\n",
      "4. Plot Grade Distribution\n",
      "5. Save to CSV\n",
      "6. Load from CSV\n",
      "0. Exit\n"
     ]
    },
    {
     "name": "stdin",
     "output_type": "stream",
     "text": [
      "Choose an option:  1\n",
      "Enter student name:  Buuddhivantha\n",
      "Enter student grade:  94\n"
     ]
    },
    {
     "name": "stdout",
     "output_type": "stream",
     "text": [
      " Buuddhivantha added with grade 94.0.\n",
      "\n",
      "=====  Student Grades Analyzer =====\n",
      "1. Add Student\n",
      "2. Show Grade Stats\n",
      "3. Show Top Performers\n",
      "4. Plot Grade Distribution\n",
      "5. Save to CSV\n",
      "6. Load from CSV\n",
      "0. Exit\n"
     ]
    },
    {
     "name": "stdin",
     "output_type": "stream",
     "text": [
      "Choose an option:  2\n"
     ]
    },
    {
     "name": "stdout",
     "output_type": "stream",
     "text": [
      "\n",
      " Grade Analysis:\n",
      "Average Grade: 75.33\n",
      "Highest Grade: 100.0\n",
      "Lowest Grade: 23.0\n",
      "\n",
      "=====  Student Grades Analyzer =====\n",
      "1. Add Student\n",
      "2. Show Grade Stats\n",
      "3. Show Top Performers\n",
      "4. Plot Grade Distribution\n",
      "5. Save to CSV\n",
      "6. Load from CSV\n",
      "0. Exit\n"
     ]
    },
    {
     "name": "stdin",
     "output_type": "stream",
     "text": [
      "Choose an option:  3\n",
      "How many top performers to display?  3\n"
     ]
    },
    {
     "name": "stdout",
     "output_type": "stream",
     "text": [
      "\n",
      " Top 3 Performers:\n",
      "1. Chandan R - 100.0\n",
      "2. Sachin - 99.0\n",
      "3. Virat - 98.0\n",
      "\n",
      "=====  Student Grades Analyzer =====\n",
      "1. Add Student\n",
      "2. Show Grade Stats\n",
      "3. Show Top Performers\n",
      "4. Plot Grade Distribution\n",
      "5. Save to CSV\n",
      "6. Load from CSV\n",
      "0. Exit\n"
     ]
    },
    {
     "name": "stdin",
     "output_type": "stream",
     "text": [
      "Choose an option:  4\n"
     ]
    },
    {
     "data": {
      "image/png": "[encoded data removed]",
      "text/plain": [
       "<Figure size 1000x500 with 1 Axes>"
      ]
     },
     "metadata": {},
     "output_type": "display_data"
    },
    {
     "name": "stdout",
     "output_type": "stream",
     "text": [
      "\n",
      "=====  Student Grades Analyzer =====\n",
      "1. Add Student\n",
      "2. Show Grade Stats\n",
      "3. Show Top Performers\n",
      "4. Plot Grade Distribution\n",
      "5. Save to CSV\n",
      "6. Load from CSV\n",
      "0. Exit\n"
     ]
    },
    {
     "name": "stdin",
     "output_type": "stream",
     "text": [
      "Choose an option:  5\n"
     ]
    },
    {
     "name": "stdout",
     "output_type": "stream",
     "text": [
      " Data saved to CSV.\n",
      "\n",
      "=====  Student Grades Analyzer =====\n",
      "1. Add Student\n",
      "2. Show Grade Stats\n",
      "3. Show Top Performers\n",
      "4. Plot Grade Distribution\n",
      "5. Save to CSV\n",
      "6. Load from CSV\n",
      "0. Exit\n"
     ]
    },
    {
     "name": "stdin",
     "output_type": "stream",
     "text": [
      "Choose an option:  6\n"
     ]
    },
    {
     "name": "stdout",
     "output_type": "stream",
     "text": [
      " Data loaded successfully.\n",
      "\n",
      "=====  Student Grades Analyzer =====\n",
      "1. Add Student\n",
      "2. Show Grade Stats\n",
      "3. Show Top Performers\n",
      "4. Plot Grade Distribution\n",
      "5. Save to CSV\n",
      "6. Load from CSV\n",
      "0. Exit\n"
     ]
    },
    {
     "name": "stdin",
     "output_type": "stream",
     "text": [
      "Choose an option:  0\n"
     ]
    },
    {
     "name": "stdout",
     "output_type": "stream",
     "text": [
      " Data saved to CSV.\n",
      " Goodbye!\n"
     ]
    }
   ],
   "source": [
    "# Main menu\n",
    "def main_menu():\n",
    "    load_from_csv()  # Load data on start\n",
    "    while True:\n",
    "        print(\"\\n=====  Student Grades Analyzer =====\")\n",
    "        print(\"1. Add Student\")\n",
    "        print(\"2. Show Grade Stats\")\n",
    "        print(\"3. Show Top Performers\")\n",
    "        print(\"4. Plot Grade Distribution\")\n",
    "        print(\"5. Save to CSV\")\n",
    "        print(\"6. Load from CSV\")\n",
    "        print(\"0. Exit\")\n",
    "\n",
    "        choice = input(\"Choose an option: \")\n",
    "\n",
    "        if choice == '1':\n",
    "            add_student()\n",
    "        elif choice == '2':\n",
    "            show_stats()\n",
    "        elif choice == '3':\n",
    "            show_top_performers()\n",
    "        elif choice == '4':\n",
    "            plot_grades()\n",
    "        elif choice == '5':\n",
    "            save_to_csv()\n",
    "        elif choice == '6':\n",
    "            load_from_csv()\n",
    "        elif choice == '0':\n",
    "            save_to_csv()\n",
    "            print(\" Goodbye!\")\n",
    "            break\n",
    "        else:\n",
    "            print(\" Invalid option. Try again.\")\n",
    "\n",
    "# Run program\n",
    "main_menu()"
   ]
  }
 ],
 "metadata": {
  "kernelspec": {
   "display_name": "Python 3 (ipykernel)",
   "language": "python",
   "name": "python3"
  },
  "language_info": {
   "codemirror_mode": {
    "name": "ipython",
    "version": 3
   },
   "file_extension": ".py",
   "mimetype": "text/x-python",
   "name": "python",
   "nbconvert_exporter": "python",
   "pygments_lexer": "ipython3",
   "version": "3.12.4"
  }
 },
 "nbformat": 4,
 "nbformat_minor": 5
}
